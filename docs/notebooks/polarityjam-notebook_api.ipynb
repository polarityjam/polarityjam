{
 "cells": [
  {
   "cell_type": "markdown",
   "id": "28c584ec",
   "metadata": {
    "pycharm": {
     "name": "#%% md\n"
    }
   },
   "source": [
    "# Python Extended API\n",
    "\n",
    "We aimed to structure our code in the most general way to derive at our analysis.\n",
    "We want to share our structure to potentially help everyone to improve their code organization.\n",
    "\n",
    "Hence, we share here how we use the classes defined in polarityJaM as a library.\n",
    "\n",
    "You can find this notebook [here!](https://github.com/polarityjam/polarityjam/blob/main/docs/notebooks/polarityjam-notebook_api.ipynb)\n"
   ]
  },
  {
   "cell_type": "code",
   "execution_count": 1,
   "id": "cc4f6d5a",
   "metadata": {
    "pycharm": {
     "name": "#%%\n"
    }
   },
   "outputs": [],
   "source": [
    "%load_ext autoreload\n",
    "%autoreload 2\n",
    "\n",
    "# must run in an environment where polarityJaM is installed\n",
    "from polarityjam import Extractor, Plotter, PropertiesCollection\n",
    "from polarityjam import RuntimeParameter, PlotParameter, SegmentationParameter, ImageParameter\n",
    "from polarityjam import BioMedicalMask, BioMedicalInstanceSegmentationMask\n",
    "from polarityjam import BioMedicalImage\n",
    "from polarityjam import BioMedicalInstanceSegmentation\n",
    "from polarityjam import load_segmenter\n",
    "from polarityjam.utils.io import read_image\n",
    "from pathlib import Path"
   ]
  },
  {
   "cell_type": "markdown",
   "id": "323089b8",
   "metadata": {
    "pycharm": {
     "name": "#%% md\n"
    }
   },
   "source": [
    "## Setup data\n",
    "\n",
    "First, lets setup the data we want to use. You find the images in our example dataset that are part of polarityJaM.\n",
    "Here is the link to the [example data!](https://github.com/polarityjam/polarityjam/blob/main/src/polarityjam/test/resources/data.zip) Simply extract the zip and have it in the same directory as this file."
   ]
  },
  {
   "cell_type": "code",
   "execution_count": 2,
   "id": "d59fda6e",
   "metadata": {
    "pycharm": {
     "name": "#%%\n"
    }
   },
   "outputs": [],
   "source": [
    "### ADAPT ME ###\n",
    "path_root = Path(\"\")\n",
    "input_file1 = path_root.joinpath(\"data/golgi_nuclei/set_2/060721_EGM2_18dyn_02.tif\")\n",
    "input_file2 = path_root.joinpath(\"data/golgi_nuclei/set_1/060721_EGM2_18dyn_01.tif\")\n",
    "\n",
    "output_path = path_root.joinpath(\"polarityjam_out/\")\n",
    "output_file_prefix1 = \"060721_EGM2_18dyn_02\"\n",
    "output_file_prefix2 = \"060721_EGM2_18dyn_01\"\n",
    "### ADAPT ME ###"
   ]
  },
  {
   "cell_type": "markdown",
   "id": "57dcdce3",
   "metadata": {
    "pycharm": {
     "name": "#%% md\n"
    }
   },
   "source": [
    "Now, we define the parameters of the image. This depends on your question you are trying to answer and your experimental setup."
   ]
  },
  {
   "cell_type": "code",
   "execution_count": null,
   "outputs": [],
   "source": [
    "# read input\n",
    "img1 = read_image(input_file1)\n",
    "img2 = read_image(input_file2)\n",
    "\n",
    "# parameters\n",
    "params_image1 = ImageParameter()\n",
    "\n",
    "params_runtime = RuntimeParameter()\n",
    "params_seg = SegmentationParameter(params_runtime.segmentation_algorithm)\n",
    "params_plot = PlotParameter()\n",
    "\n",
    "# set the image parameters\n",
    "params_image1.channel_organelle = 0  # golgi channel\n",
    "params_image1.channel_nucleus = 2\n",
    "params_image1.channel_junction = 3\n",
    "params_image1.channel_expression_marker = 3\n",
    "params_image1.pixel_to_micron_ratio = 2.4089  # from the biological setup\n",
    "\n",
    "# same experimental setup\n",
    "params_image2 = params_image1\n",
    "\n",
    "print(params_image1)"
   ],
   "metadata": {
    "collapsed": false,
    "pycharm": {
     "name": "#%%\n"
    }
   }
  },
  {
   "cell_type": "markdown",
   "source": [
    "## Segmentation & Feature Extraction\n",
    "\n",
    "Here, we prepare the segmentation of the images. Here, cellpose is used to segment the image."
   ],
   "metadata": {
    "collapsed": false,
    "pycharm": {
     "name": "#%% md\n"
    }
   }
  },
  {
   "cell_type": "code",
   "execution_count": null,
   "outputs": [],
   "source": [
    "# Define your segmenter and segment your image\n",
    "cellpose_segmentation, params_seg = load_segmenter(params_runtime)  # take default segmentation parameters for the chosen algorithm\n",
    "# alternatively, you can pass your own parameters as a dictionary or SegmentationParameter object\n",
    "# cellpose_segmentation, params_seg = load_segmenter(params_runtime, params_seg)\n",
    "# cellpose_segmentation, params_seg = load_segmenter(params_runtime, {\"cellprob_threshold\": 0.5})\n",
    "img_channels, _ = cellpose_segmentation.prepare(img1, params_image1)\n",
    "mask1 = cellpose_segmentation.segment(img_channels, input_file1)\n",
    "\n",
    "img_channels, _ = cellpose_segmentation.prepare(img2, params_image2)\n",
    "mask2 = cellpose_segmentation.segment(img_channels, input_file2);"
   ],
   "metadata": {
    "collapsed": false,
    "pycharm": {
     "name": "#%%\n"
    }
   }
  },
  {
   "cell_type": "markdown",
   "source": [
    "Now we can extract the features of both images. We collect them in a single collection object that is automatically saved in the outputpath."
   ],
   "metadata": {
    "collapsed": false,
    "pycharm": {
     "name": "#%% md\n"
    }
   }
  },
  {
   "cell_type": "code",
   "execution_count": null,
   "outputs": [],
   "source": [
    "# feature extraction\n",
    "collection = PropertiesCollection()\n",
    "extractor = Extractor(params_runtime)\n",
    "extractor.extract(img1, params_image1, mask1, output_file_prefix1, output_path, collection)\n",
    "extractor.extract(img2, params_image2, mask2, output_file_prefix2, output_path,\n",
    "                  collection);  # gather features in the same collection"
   ],
   "metadata": {
    "collapsed": false,
    "pycharm": {
     "name": "#%%\n"
    }
   }
  },
  {
   "cell_type": "markdown",
   "source": [
    "## Working with the pyplot visualization\n",
    "\n",
    "Not being able to alter plots can be dissatisfying. Hence, we return the figure and their axes to let you modify basic things that are specific to your setup. Like a title for example"
   ],
   "metadata": {
    "collapsed": false,
    "pycharm": {
     "name": "#%% md\n"
    }
   }
  },
  {
   "cell_type": "code",
   "execution_count": null,
   "outputs": [],
   "source": [
    "# plot the cell orientation of a specific image in your collection\n",
    "plotter = Plotter(params_plot)\n",
    "\n",
    "# plot the cell orientation of a specific image in your collection\n",
    "f, ax = plotter.plot_orientation(collection, \"060721_EGM2_18dyn_02\")  # image is automatically saved in output_path\n",
    "\n",
    "# alter the plot to your desires; caution: changes will not be automatically saved!\n",
    "ax[0].set_title(\"Cell orientation experiment condition 1\")\n",
    "ax[1].set_title(\"Nucleus orientation experiment condition 1\");"
   ],
   "metadata": {
    "collapsed": false,
    "pycharm": {
     "name": "#%%\n"
    }
   }
  },
  {
   "cell_type": "code",
   "execution_count": null,
   "outputs": [],
   "source": [
    "f, ax = plotter.plot_orientation(collection, \"060721_EGM2_18dyn_01\")  # image is automatically saved in output_path\n",
    "ax[0].set_title(\"Cell orientation experiment condition 2\")\n",
    "ax[1].set_title(\"Nucleus orientation experiment condition 2\");"
   ],
   "metadata": {
    "collapsed": false,
    "pycharm": {
     "name": "#%%\n"
    }
   }
  },
  {
   "cell_type": "markdown",
   "source": [
    "## Working with a BioMedicalImage, Channels and simple Masks\n",
    "\n",
    "Dealing with masks and channels can be confusing. We provide masks classes for you that facilitates basic operations. Here you see examples of how to perform some basic operations without using sometimes confusing numpy operations. Don't worry, you can always perform any operation with numpy by accessing the `<object>.data` numpy array attribute of your object and turn it back to a segmentation mask afterwards."
   ],
   "metadata": {
    "collapsed": false,
    "pycharm": {
     "name": "#%% md\n"
    }
   }
  },
  {
   "cell_type": "code",
   "execution_count": null,
   "outputs": [],
   "source": [
    "from polarityjam.vizualization.plot import add_scalebar, add_colorbar\n",
    "from matplotlib import pyplot as plt\n",
    "import cmocean as cm\n",
    "\n",
    "# turn your image to a BioMedicalImage to get access to enhanced functionality\n",
    "bio_med_image = BioMedicalImage(img1, params_image1)\n",
    "\n",
    "# get a simple segmentation from the channel by otsu thresholding\n",
    "nuc_mask = BioMedicalMask.from_threshold_otsu(bio_med_image.nucleus.data)\n",
    "nuc_mask_invert = nuc_mask.invert()\n",
    "\n",
    "masked_junction_channel = bio_med_image.junction.mask(nuc_mask_invert)\n",
    "\n",
    "# look at our results\n",
    "fig, axes = plt.subplots(1, 4, figsize=(params_plot.graphics_width, params_plot.graphics_height))\n",
    "cax0 = axes[0].imshow(bio_med_image.junction.data, cmap=cm.cm.gray)\n",
    "cax1 = axes[1].imshow(bio_med_image.nucleus.data, cmap=cm.cm.gray)\n",
    "cax3 = axes[2].imshow(nuc_mask.data, cmap=cm.cm.gray)\n",
    "cax2 = axes[3].imshow(masked_junction_channel.data, cmap=cm.cm.gray)\n",
    "\n",
    "# enhance plots\n",
    "axes[0].set_title(\"Junction channel\", fontsize=3)\n",
    "axes[1].set_title(\"Nucleus channel\", fontsize=3)\n",
    "axes[2].set_title(\"Nucleus semantic segmentation maks\", fontsize=3)\n",
    "axes[3].set_title(\"Nucleus masked junction channel\", fontsize=3)\n",
    "[ax.axis('off') for ax in axes];"
   ],
   "metadata": {
    "collapsed": false,
    "pycharm": {
     "name": "#%%\n"
    }
   }
  },
  {
   "cell_type": "markdown",
   "source": [
    "## Working with instance and semantic masks\n",
    "\n",
    "Sometimes, it is of advantage to look at a single cell isolated from the others. Here, you can see how you would achieve this using the PolarityJaM library and its mask classes"
   ],
   "metadata": {
    "collapsed": false,
    "pycharm": {
     "name": "#%% md\n"
    }
   }
  },
  {
   "cell_type": "code",
   "execution_count": null,
   "outputs": [],
   "source": [
    "# options\n",
    "instance_label = 70\n",
    "outline_width = 10\n",
    "\n",
    "# turn your segmentation mask to a BioMedicalMask to get access to enhanced functionality\n",
    "bio_med_segmentation_mask = BioMedicalInstanceSegmentationMask(mask1)\n",
    "\n",
    "# get a single instance\n",
    "single_instance_mask = bio_med_segmentation_mask.get_single_instance_maks(instance_label)  # mask is now a semantic mask!\n",
    "\n",
    "# get the outline of the cell of a certain width\n",
    "single_instance_outline_mask = single_instance_mask.get_outline_from_mask(outline_width)\n",
    "\n",
    "# apply masks on a channel from our image\n",
    "junction_channel_masked = bio_med_image.junction.mask(single_instance_mask)\n",
    "junction_channel_masked_outline = bio_med_image.junction.mask(single_instance_outline_mask)\n",
    "\n",
    "# visualize junction channel with our single instance mask\n",
    "fig, axes = plt.subplots(1, 2, figsize=(params_plot.graphics_width, params_plot.graphics_height))\n",
    "cax1 = axes[0].imshow(junction_channel_masked.data, cmap=cm.cm.gray)\n",
    "cax2 = axes[1].imshow(junction_channel_masked_outline.data, cmap=cm.cm.gray)\n",
    "\n",
    "# enhance plot\n",
    "axes[0].set_title(\"Cell instance 70\")\n",
    "axes[1].set_title(\"Cell instance 70 - outline\")\n",
    "[ax.axis('off') for ax in axes];"
   ],
   "metadata": {
    "collapsed": false,
    "pycharm": {
     "name": "#%%\n"
    }
   }
  },
  {
   "cell_type": "markdown",
   "source": [
    "## Working with the extracted features\n",
    "Main focus is the feature extraction process of PolarityJaM. Here we show how you can access features in your collection and use them to do an enhanced visualization."
   ],
   "metadata": {
    "collapsed": false,
    "pycharm": {
     "name": "#%% md\n"
    }
   }
  },
  {
   "cell_type": "code",
   "execution_count": null,
   "outputs": [],
   "source": [
    "# get a specific image feature from the collection as a pandas dataset. A list of all available properties are listed here:\n",
    "# https://polarityjam.readthedocs.io/en/latest/Features.html\n",
    "cell_orientation_img1 = collection.get_properties_by_img_name(\"060721_EGM2_18dyn_02\")[\"cell_shape_orientation_deg\"]\n",
    "\n",
    "# alter the features to our desires by applying a filter\n",
    "cell_orientation_img1_masked = cell_orientation_img1.where(\n",
    "    cell_orientation_img1 > 45, bio_med_segmentation_mask.background_label\n",
    ").where(\n",
    "    cell_orientation_img1 < 135, bio_med_segmentation_mask.background_label\n",
    ")\n",
    "\n",
    "# apply this new feature vector to the instance segmentation mask.\n",
    "# Please note that order matters! We could however, pass a mapping to the relabel function (not shown here).\n",
    "bio_med_segmentation_mask_relabeled = bio_med_segmentation_mask.relabel(cell_orientation_img1_masked.values)\n",
    "\n",
    "# visualize\n",
    "fig, ax = plt.subplots(1, 1, figsize=(params_plot.graphics_width, params_plot.graphics_height))\n",
    "cax1 = ax.imshow(bio_med_image.junction.data, cmap=cm.cm.gray)  # use \".data\" to get to your numpy channel image\n",
    "cax2 = ax.imshow(bio_med_segmentation_mask_relabeled.mask_background().data, cmap=cm.cm.phase, alpha=0.75)\n",
    "add_scalebar(\n",
    "    ax,\n",
    "    params_plot.length_scalebar_microns,\n",
    "    params_image1.pixel_to_micron_ratio,\n",
    "    int(params_plot.length_scalebar_microns / 2),\n",
    "    \"w\"\n",
    ")\n",
    "add_colorbar(\n",
    "    fig, cax2, ax, [45.0, 90.0, 135.0], \"circularity\"\n",
    ")\n",
    "ax.set_title(\"Cell shape orientation between 45 and 135 degrees\")\n",
    "ax.axis('off');\n"
   ],
   "metadata": {
    "collapsed": false,
    "pycharm": {
     "name": "#%%\n"
    }
   }
  },
  {
   "cell_type": "markdown",
   "source": [
    "## Working with the feature objects"
   ],
   "metadata": {
    "collapsed": false,
    "pycharm": {
     "name": "#%% md\n"
    }
   }
  },
  {
   "cell_type": "markdown",
   "source": [
    "Lets look at the feature objects that are available in PolarityJaM.\n",
    "First, we will use the two segmentation masks we created earlier and use them to create an instance segmentation object.\n",
    "This object can be attached to our image to get access to the features that are based on the instance segmentation."
   ],
   "metadata": {
    "collapsed": false,
    "pycharm": {
     "name": "#%% md\n"
    }
   }
  },
  {
   "cell_type": "code",
   "execution_count": null,
   "outputs": [],
   "source": [
    "organelle_mask = BioMedicalMask.from_threshold_otsu(bio_med_image.organelle.data)\n",
    "\n",
    "# create an instance segmentation object\n",
    "segmentation = BioMedicalInstanceSegmentation(\n",
    "    bio_med_segmentation_mask,\n",
    "    connection_graph=True,\n",
    "    segmentation_mask_nuclei=nuc_mask.overlay_instance_segmentation(bio_med_segmentation_mask),  # make sure we have a nuclei instance segmentation mask with the same labels\n",
    "    segmentation_mask_organelle=organelle_mask.overlay_instance_segmentation(bio_med_segmentation_mask)\n",
    ")\n",
    "# attach the segmentation to our image\n",
    "bio_med_image.segmentation = segmentation\n",
    "\n",
    "# use the image to get access to the features\n",
    "focused_image = bio_med_image.focus(70, outline_width)\n",
    "\n",
    "# access the junction features\n",
    "junction_properties = focused_image.get_junction_properties(params_runtime)\n",
    "\n",
    "print(junction_properties.straight_line_junction_length)\n",
    "print(junction_properties.junction_cue_directional_intensity_ratio)\n",
    "print(junction_properties.junction_cue_undirectional_intensity_ratio)"
   ],
   "metadata": {
    "collapsed": false,
    "pycharm": {
     "name": "#%%\n"
    }
   }
  },
  {
   "cell_type": "code",
   "execution_count": null,
   "outputs": [],
   "source": [
    "organelle_mask = BioMedicalMask.from_threshold_otsu(bio_med_image.organelle.data)\n",
    "\n",
    "# create an instance segmentation object\n",
    "segmentation = BioMedicalInstanceSegmentation(\n",
    "    bio_med_segmentation_mask,\n",
    "    connection_graph=True,\n",
    "    segmentation_mask_nuclei=nuc_mask.overlay_instance_segmentation(bio_med_segmentation_mask),  # make sure we have a nuclei instance segmentation mask with the same labels\n",
    "    segmentation_mask_organelle=organelle_mask.overlay_instance_segmentation(bio_med_segmentation_mask)\n",
    ")\n",
    "# attach the segmentation to our image\n",
    "bio_med_image.segmentation = segmentation\n",
    "\n",
    "# use the image to get access to the features\n",
    "focused_image = bio_med_image.focus(70, outline_width)\n",
    "\n",
    "# access the junction features\n",
    "junction_properties = focused_image.get_junction_properties(params_runtime)\n",
    "\n",
    "print(junction_properties.straight_line_junction_length)\n",
    "print(junction_properties.junction_cue_directional_intensity_ratio)\n",
    "print(junction_properties.junction_cue_undirectional_intensity_ratio)"
   ],
   "metadata": {
    "collapsed": false,
    "pycharm": {
     "name": "#%%\n"
    }
   }
  }
 ],
 "metadata": {
  "kernelspec": {
   "display_name": "polarityjam",
   "language": "python",
   "name": "polarityjam"
  },
  "language_info": {
   "codemirror_mode": {
    "name": "ipython",
    "version": 3
   },
   "file_extension": ".py",
   "mimetype": "text/x-python",
   "name": "python",
   "nbconvert_exporter": "python",
   "pygments_lexer": "ipython3",
   "version": "3.8.13"
  }
 },
 "nbformat": 4,
 "nbformat_minor": 5
}